{
  "nbformat": 4,
  "nbformat_minor": 0,
  "metadata": {
    "colab": {
      "provenance": []
    },
    "kernelspec": {
      "name": "python3",
      "display_name": "Python 3"
    },
    "language_info": {
      "name": "python"
    }
  },
  "cells": [
    {
      "cell_type": "markdown",
      "source": [
        "1. What is the difference between a function and a method in Python?\n",
        "\n",
        "- A function is a block of reusable code that is not associated with any specific object. It is defined independently and can be called on its own.\n",
        "\n",
        "  A method, on the other hand, is a function that is associated with an object and is called on that object. It is defined within a class and is used to perform actions or access data related to an instance of that class.\n",
        "\n",
        "2. Explain the concept of function arguments and parameters in Python.\n",
        "\n",
        "-  Parameters are the names defined in the function's signature. They act as placeholders for the values the function expects to receive.\n",
        "\n",
        "   Arguments are the actual values passed to the function when it is called. These values are assigned to the corresponding parameters.\n",
        "\n",
        "4. What is the purpose of the `return` statement in a Python function?\n",
        "\n",
        "-  The return statement in a Python function serves two primary purposes: terminating the function's execution and sending a value or values back to the code that called it. When a return statement is encountered, the function immediately stops running, and the specified value is passed back to the caller. If no return statement is present, the function implicitly returns None upon completion.\n",
        "\n",
        "5. What are iterators in Python and how do they differ from iterables?\n",
        "\n",
        "-  Iterables\n",
        "\n",
        "   Iterables are objects that can be iterated over, meaning they can return one element at a time. They are containers for data that can be accessed sequentially. Examples include lists, tuples, dictionaries, and strings. You can use a for loop to iterate over an iterable.\n",
        "\n",
        "   ( An object is iterable if it has an __iter__ method that returns an iterator.)\n",
        "\n",
        "-  Iterators\n",
        "\n",
        "   Iterators are objects that represent a stream of data. They are the tools used to actually perform the iteration. An iterator keeps track of the current position in the sequence and can provide the next item.\n",
        "   \n",
        "   (An object is an iterator if it has both an __iter__ method and a __next__ method.\n",
        "\n",
        "   The __next__ method returns the next item in the sequence. When there are no more items, it raises a StopIteration exception.)\n",
        "\n",
        "6. Explain the concept of generators in Python and how they are defined.\n",
        "\n",
        "-  In Python, generators are unique kinds of iterators that offer a lazy evaluation of a series of values. Because they only create items upon request, they are incredibly memory-efficient when working with big datasets.\n",
        "\n",
        "   The Operation of Generators\n",
        "   \n",
        "   A generator function pauses its execution and saves its state each time it yields a value, as opposed to building and storing the entire sequence in memory all at once. The function picks up where it left off when the next value is requested. They differ from regular functions, which compute everything and return a single value, in that they have the ability to save state.\n",
        "\n",
        "7. What are the advantages of using generators over regular functions?\n",
        "\n",
        "-  Generators offer significant advantages over regular functions, mainly concerning memory efficiency and performance.\n",
        "\n",
        "   1) Memory Efficiency: Generators don't store the entire result in memory. They yield one item at a time, making them ideal for processing large datasets or infinite sequences.\n",
        "\n",
        "\n",
        "   2) Lazy Evaluation: They produce values on demand. This saves computation time, as values are only generated when they are actually needed.\n",
        "\n",
        "   3) Simpler Code: They simplify the creation of iterators, as the yield keyword automatically handles the state-saving logic.\n",
        "\n",
        "   4) Infinite Sequences: Generators are the only way to represent and work with infinite sequences in Python without running out of memory.\n",
        "\n",
        "8. What is a lambda function in Python and when is it typically used?\n",
        "\n",
        "-  A lambda function is a small, anonymous function defined with a single expression. It has no name and is typically used for brief, one-time operations where a full def function is unnecessary.\n",
        "\n",
        "   Typical Uses\n",
        "   \n",
        "   Higher-order functions: They're most often used as arguments to functions like map(), filter(), and sorted(), which accept another function as a parameter.\n",
        "\n",
        "   Conciseness: Lambdas provide a compact way to define simple operations without cluttering the code with named function definitions.\n",
        "\n",
        "9. Explain the purpose and usage of the `map()` function in Python.\n",
        "\n",
        "-  The map() function in Python applies a specified function to every item in an iterable (like a list or tuple) and returns a map object (an iterator) of the results. Its primary purpose is to perform the same operation on all elements of a sequence efficiently and concisely.\n",
        "\n",
        "   Usage\n",
        "   \n",
        "   The map() function has the syntax map(function, iterable).\n",
        "\n",
        "   function: The function to be applied to each item. This can be a built-in function, a user-defined function, or a lambda function.\n",
        "\n",
        "   iterable: The sequence of items (e.g., list, tuple, string) to which the function is applied.\n",
        "\n",
        "10. What is the difference between `map()`, `reduce()`, and `filter()` functions in Python?\n",
        "\n",
        "-  map(), reduce(), and filter() are three core functions in Python's functional programming paradigm, each with a distinct purpose for processing iterables.\n",
        "\n",
        "  1) map()\n",
        "   \n",
        "   The map() function transforms each item in an iterable by applying a function to it. It returns an iterator that yields the results. It's used when you want to perform the same operation on every element of a sequence.\n",
        "\n",
        "   Example: Squaring every number in a list. list(map(lambda x: x**2, [1, 2, 3])) results in [1, 4, 9].\n",
        "\n",
        "   2) filter()\n",
        "\n",
        "   The filter() function selects items from an iterable based on a condition. It applies a function that must return a boolean (True or False) to each item and returns an iterator containing only the items for which the function returned True.\n",
        "\n",
        "   Example: Getting only the even numbers from a list. list(filter(lambda x: x % 2 == 0, [1, 2, 3, 4])) results in [2, 4].\n",
        "\n",
        "   3) reduce()\n",
        "   \n",
        "   The reduce() function combines all items in an iterable into a single cumulative value. It repeatedly applies a function with two arguments to the items, from left to right, until a single value remains. reduce() is not a built-in function and must be imported from the functools module.\n",
        "\n",
        "   Example: Calculating the sum of all numbers in a list. from functools import reduce then reduce(lambda x, y: x + y, [1, 2, 3, 4]) results in 10.\n",
        "\n",
        "11. Using pen & Paper write the internal mechanism for sum operation using  reduce function on this given\n",
        "list:[47,11,42,13];\n",
        "\n",
        "-  Step 1: Start with the first two elements of the list.\n",
        "\n",
        "   x = 47, y = 11\n",
        "\n",
        "   Operation: x + y = 47 + 11 = 58\n",
        "\n",
        "   This result (58) becomes the new x for the next step.\n",
        "\n",
        "   Step 2: Next element of the list is 42.\n",
        "\n",
        "   x = 58, y = 42\n",
        "\n",
        "   Operation: x + y = 58 + 42 = 100\n",
        "\n",
        "   100 becomes the new x.\n",
        "\n",
        "   Step 3: Next element is 13.\n",
        "\n",
        "   x = 100, y = 13\n",
        "\n",
        "  Operation: x + y = 100 + 13 = 113\n",
        "\n",
        "  Step 4: No more elements left.\n",
        "\n",
        "  Final result: 113\n"
      ],
      "metadata": {
        "id": "2274kXQynyYY"
      }
    },
    {
      "cell_type": "markdown",
      "source": [
        "Practical Questions"
      ],
      "metadata": {
        "id": "g83kcFILRwBh"
      }
    },
    {
      "cell_type": "markdown",
      "source": [
        "1. Write a Python function that takes a list of numbers as input and returns the sum of all even numbers in\n",
        "the list."
      ],
      "metadata": {
        "id": "XBfT7bzY6neE"
      }
    },
    {
      "cell_type": "code",
      "source": [
        "a = [1, 2, 3, 4, 5, 6, 7, 8, 9, 10]\n",
        "total = 0\n",
        "for num in a:\n",
        "    if num % 2 == 0:\n",
        "        total += num\n",
        "print(total)"
      ],
      "metadata": {
        "colab": {
          "base_uri": "https://localhost:8080/"
        },
        "id": "wbleQCk_tkTZ",
        "outputId": "c5d37c22-c0df-4f06-8253-6983f8f961fb"
      },
      "execution_count": null,
      "outputs": [
        {
          "output_type": "stream",
          "name": "stdout",
          "text": [
            "30\n"
          ]
        }
      ]
    },
    {
      "cell_type": "markdown",
      "source": [
        "2. Create a Python function that accepts a string and returns the reverse of that string."
      ],
      "metadata": {
        "id": "TU9jgiTRt2gW"
      }
    },
    {
      "cell_type": "code",
      "source": [
        "a = \"hello world\"\n",
        "a[::-1]"
      ],
      "metadata": {
        "colab": {
          "base_uri": "https://localhost:8080/",
          "height": 35
        },
        "id": "C-f1AiZ0t9AQ",
        "outputId": "d0d39824-edfa-432c-f499-ba064e050cea"
      },
      "execution_count": null,
      "outputs": [
        {
          "output_type": "execute_result",
          "data": {
            "text/plain": [
              "'dlrow olleh'"
            ],
            "application/vnd.google.colaboratory.intrinsic+json": {
              "type": "string"
            }
          },
          "metadata": {},
          "execution_count": 16
        }
      ]
    },
    {
      "cell_type": "markdown",
      "source": [
        "3. Implement a Python function that takes a list of integers and returns a new list containing the squares of\n",
        "each number."
      ],
      "metadata": {
        "id": "phKlT7XOucVJ"
      }
    },
    {
      "cell_type": "code",
      "source": [
        "a = [1, 2, 3, 4, 5]\n",
        "b = []\n",
        "for num in a:\n",
        "    b.append(num ** 2)\n",
        "print(b)"
      ],
      "metadata": {
        "colab": {
          "base_uri": "https://localhost:8080/"
        },
        "id": "1BBF9vk4wTsq",
        "outputId": "af548428-cdc0-47fa-b4dc-5bdfe44d74d6"
      },
      "execution_count": null,
      "outputs": [
        {
          "output_type": "stream",
          "name": "stdout",
          "text": [
            "[1, 4, 9, 16, 25]\n"
          ]
        }
      ]
    },
    {
      "cell_type": "markdown",
      "source": [
        "4. Write a Python function that checks if a given number is prime or not from 1 to 200."
      ],
      "metadata": {
        "id": "fdeQkwucw1m4"
      }
    },
    {
      "cell_type": "code",
      "source": [
        "import math\n",
        "\n",
        "def is_prime(n):\n",
        "    if n <= 1:\n",
        "        return False\n",
        "    if n == 2:\n",
        "        return True\n",
        "    if n % 2 == 0:\n",
        "        return False\n",
        "\n",
        "    for i in range(3, int(math.sqrt(n)) + 1, 2):\n",
        "        if n % i == 0:\n",
        "            return False\n",
        "    return True\n",
        "\n",
        "# Find primes from 1 to 200 using a list comprehension\n",
        "primes = [num for num in range(1, 201) if is_prime(num)]\n",
        "\n",
        "print(\"Primes (1-200):\")\n",
        "print(primes)\n",
        "print(f\"Total: {len(primes)}\")"
      ],
      "metadata": {
        "colab": {
          "base_uri": "https://localhost:8080/"
        },
        "id": "SaJ9Cfgmzsuk",
        "outputId": "6b48ba20-5cd1-4b0f-ae9e-eee425664da3"
      },
      "execution_count": null,
      "outputs": [
        {
          "output_type": "stream",
          "name": "stdout",
          "text": [
            "Primes (1-200):\n",
            "[2, 3, 5, 7, 11, 13, 17, 19, 23, 29, 31, 37, 41, 43, 47, 53, 59, 61, 67, 71, 73, 79, 83, 89, 97, 101, 103, 107, 109, 113, 127, 131, 137, 139, 149, 151, 157, 163, 167, 173, 179, 181, 191, 193, 197, 199]\n",
            "Total: 46\n"
          ]
        }
      ]
    },
    {
      "cell_type": "markdown",
      "source": [
        "5. Create an iterator class in Python that generates the Fibonacci sequence up to a specified number of terms."
      ],
      "metadata": {
        "id": "EWPxLwqG0F-i"
      }
    },
    {
      "cell_type": "code",
      "source": [
        "class Fibonacci:\n",
        "    def __init__(self, n):\n",
        "        self.n = n\n",
        "        self.a, self.b = 0, 1\n",
        "        self.count = 0\n",
        "\n",
        "    def __iter__(self):\n",
        "        return self\n",
        "\n",
        "    def __next__(self):\n",
        "        if self.count < self.n:\n",
        "            num = self.a\n",
        "            self.a, self.b = self.b, self.a + self.b\n",
        "            self.count += 1\n",
        "            return num\n",
        "        else:\n",
        "            raise StopIteration\n",
        "fib_gen = Fibonacci(10)\n",
        "for num in fib_gen:\n",
        "    print(num, end=\" \")"
      ],
      "metadata": {
        "colab": {
          "base_uri": "https://localhost:8080/"
        },
        "id": "3Wyj76qoxz8F",
        "outputId": "8f380720-cff3-454c-9590-1e4dd04abe33"
      },
      "execution_count": 15,
      "outputs": [
        {
          "output_type": "stream",
          "name": "stdout",
          "text": [
            "0 1 1 2 3 5 8 13 21 34 "
          ]
        }
      ]
    },
    {
      "cell_type": "markdown",
      "source": [
        "6. Write a generator function in Python that yields the powers of 2 up to a given exponent."
      ],
      "metadata": {
        "id": "guEor7slyXkF"
      }
    },
    {
      "cell_type": "code",
      "source": [
        "def powers_of_two(n):\n",
        "    for i in range(n + 1):\n",
        "        yield 2 ** i\n",
        "for val in powers_of_two(5):\n",
        "  print(val, end=\" \")\n"
      ],
      "metadata": {
        "colab": {
          "base_uri": "https://localhost:8080/"
        },
        "id": "dKsv1yc1yZ7J",
        "outputId": "6ada3075-2216-48e9-b104-2a9507cfd7a7"
      },
      "execution_count": 19,
      "outputs": [
        {
          "output_type": "stream",
          "name": "stdout",
          "text": [
            "1 2 4 8 16 32 "
          ]
        }
      ]
    },
    {
      "cell_type": "markdown",
      "source": [
        "7. Implement a generator function that reads a file line by line and yields each line as a string."
      ],
      "metadata": {
        "id": "1O4e_emQzOOA"
      }
    },
    {
      "cell_type": "code",
      "source": [
        "def read_file_line_by_line(hello):\n",
        "    with open(hello, 'r') as file:\n",
        "        for line in file:\n",
        "            yield line.rstrip('\\n')\n",
        "            for line in read_file_line_by_line(\"hello\"):\n",
        "             print(line)"
      ],
      "metadata": {
        "id": "gNsqsL_9zUBj"
      },
      "execution_count": 75,
      "outputs": []
    },
    {
      "cell_type": "markdown",
      "source": [
        "8. Use a lambda function in Python to sort a list of tuples based on the second element of each tuple."
      ],
      "metadata": {
        "id": "q6wJTpiT2QlS"
      }
    },
    {
      "cell_type": "code",
      "source": [
        "data = [(1, 5), (3, 1), (4, 7), (2, 3)]\n",
        "sorted_data = sorted(data, key=lambda x: x[1])\n",
        "\n",
        "print(\"Original:\", data)\n",
        "print(\"Sorted:\", sorted_data)"
      ],
      "metadata": {
        "colab": {
          "base_uri": "https://localhost:8080/"
        },
        "id": "2Yv3et_e2emG",
        "outputId": "cb65bad9-b73e-4f01-b4ea-141000e22769"
      },
      "execution_count": 76,
      "outputs": [
        {
          "output_type": "stream",
          "name": "stdout",
          "text": [
            "Original: [(1, 5), (3, 1), (4, 7), (2, 3)]\n",
            "Sorted: [(3, 1), (2, 3), (1, 5), (4, 7)]\n"
          ]
        }
      ]
    },
    {
      "cell_type": "markdown",
      "source": [
        "9. Write a Python program that uses `map()` to convert a list of temperatures from Celsius to Fahrenheit."
      ],
      "metadata": {
        "id": "eQZWXe3d2ofk"
      }
    },
    {
      "cell_type": "code",
      "source": [
        "celsius = [0, 20, 37, 100]\n",
        "fahrenheit = list(map(lambda c: (9/5) * c + 32, celsius))\n",
        "print(\"Celsius:\", celsius)\n",
        "print(\"Fahrenheit:\", fahrenheit)"
      ],
      "metadata": {
        "colab": {
          "base_uri": "https://localhost:8080/"
        },
        "id": "HHajrBs22uk0",
        "outputId": "9b2ff98e-82a3-40e8-8d19-eecba2a12ecd"
      },
      "execution_count": 77,
      "outputs": [
        {
          "output_type": "stream",
          "name": "stdout",
          "text": [
            "Celsius: [0, 20, 37, 100]\n",
            "Fahrenheit: [32.0, 68.0, 98.60000000000001, 212.0]\n"
          ]
        }
      ]
    },
    {
      "cell_type": "markdown",
      "source": [
        "10. Create a Python program that uses `filter()` to remove all the vowels from a given string."
      ],
      "metadata": {
        "id": "QlRlRaRf3C1H"
      }
    },
    {
      "cell_type": "code",
      "source": [
        "text = \"Hello Python Programming\"\n",
        "vowels = \"aeiouAEIOU\"\n",
        "result = \"\".join(filter(lambda ch: ch not in vowels, text))\n",
        "print(\"Original:\", text)\n",
        "print(\"Without vowels:\", result)"
      ],
      "metadata": {
        "colab": {
          "base_uri": "https://localhost:8080/"
        },
        "id": "ymwhTmc83IWV",
        "outputId": "742e0b5c-c458-4c53-8bd8-164a39a066cd"
      },
      "execution_count": 78,
      "outputs": [
        {
          "output_type": "stream",
          "name": "stdout",
          "text": [
            "Original: Hello Python Programming\n",
            "Without vowels: Hll Pythn Prgrmmng\n"
          ]
        }
      ]
    },
    {
      "cell_type": "markdown",
      "source": [
        "11) Imagine an accounting routine used in a book shop. It works on a list with sublists, which look like this:\n",
        "\n",
        "Order Number     Book Title and Author     Quantity    Price per Item\n",
        "\n",
        "3458            Learning Python, Mark Lutz    4          40.95\n",
        "\n",
        "98762          Programming Python, Mark Lutz  5          56.80\n",
        "\n",
        "77226          Head First Python, Paul Barry  3          32.95\n",
        "\n",
        "88112       Einführung in Python3, Bernd Klein 3         24.99\n",
        "\n",
        "Write a Python program, which returns a list with 2-tuples. Each tuple consists of the order number and the product of the price per item and the quantity. The product should be increased by 10,- € if the value of the order is smaller than 100,00 €.\n",
        "\n",
        "Write a Python program using lambda and map."
      ],
      "metadata": {
        "id": "z-DxOCfu3i1B"
      }
    },
    {
      "cell_type": "code",
      "source": [
        "orders = [\n",
        "    [34587, \"Learning Python, Mark Lutz\", 4, 40.95],\n",
        "    [98762, \"Programming Python, Mark Lutz\", 5, 56.80],\n",
        "    [77226, \"Head First Python, Paul Barry\", 3, 32.95],\n",
        "    [88112, \"Einführung in Python3, Bernd Klein\", 3, 24.99]\n",
        "]\n",
        "\n",
        "# Using lambda and map\n",
        "result = list(map(lambda x: (x[0], x[2] * x[3] if x[2] * x[3] >= 100 else x[2] * x[3] + 10), orders))\n",
        "\n",
        "print(result)"
      ],
      "metadata": {
        "colab": {
          "base_uri": "https://localhost:8080/"
        },
        "id": "FJxVJtt3Q_o2",
        "outputId": "b8a231ca-cf03-4d02-b764-736171a83762"
      },
      "execution_count": 1,
      "outputs": [
        {
          "output_type": "stream",
          "name": "stdout",
          "text": [
            "[(34587, 163.8), (98762, 284.0), (77226, 108.85000000000001), (88112, 84.97)]\n"
          ]
        }
      ]
    }
  ]
}